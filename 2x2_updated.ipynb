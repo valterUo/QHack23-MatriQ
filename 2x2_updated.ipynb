{
 "cells": [
  {
   "cell_type": "code",
   "execution_count": 1,
   "id": "0f319900-ea1a-438e-bd65-1c88b31fef09",
   "metadata": {},
   "outputs": [],
   "source": [
    "import dimod\n",
    "from dimod.generators.constraints import combinations\n",
    "from dwave.system import LeapHybridSampler\n",
    "from hybrid.reference import KerberosSampler\n",
    "\n",
    "import numpy as np\n",
    "from numpy.random import shuffle\n",
    "import json\n",
    "import itertools\n",
    "import os\n",
    "import math\n",
    "import random\n",
    "import matplotlib.pyplot as plt\n",
    "\n",
    "from utils import *\n",
    "\n",
    "notebook_path = os.path.abspath(\"main.ipynb\")\n",
    "\n",
    "from optimized_qubos import *\n",
    "\n",
    "dim = 2\n",
    "initial_tensor = get_standard_tensor(dim) % 2\n",
    "origo = np.tensordot([0]*4, np.tensordot([0]*4, [0]*4, axes=0), axes=0)\n",
    "#print(initial_tensor)"
   ]
  },
  {
   "cell_type": "code",
   "execution_count": 2,
   "id": "d615b9bb-3c21-4ae1-bbdb-08eea51a76e8",
   "metadata": {},
   "outputs": [],
   "source": [
    "strassen_tensors = [np.tensordot([0,0,0,1], np.tensordot([-1,0,1,0], [1,0,1,0], axes=0), axes=0),\n",
    "          np.tensordot([1,1,0,0], np.tensordot([0,0,0,1], [-1,1,0,0], axes=0), axes=0),\n",
    "           np.tensordot([-1,0,1,0], np.tensordot([1,1,0,0], [0,0,0,1], axes=0), axes=0),\n",
    "           np.tensordot([1,0,0,1], np.tensordot([1,0,0,1], [1,0,0,1], axes=0), axes=0),\n",
    "          np.tensordot([0,1,0,-1], np.tensordot([0,0,1,1], [1,0,0,0], axes=0), axes=0),\n",
    "           np.tensordot([1,0,0,0], np.tensordot([0,1,0,-1], [0,1,0,1], axes=0), axes=0),\n",
    "           np.tensordot([0,0,1,1], np.tensordot([1,0,0,0], [0,0,1,-1], axes=0), axes=0)]"
   ]
  },
  {
   "cell_type": "code",
   "execution_count": 3,
   "id": "9f31e381-1870-416c-a345-2439942989e8",
   "metadata": {},
   "outputs": [
    {
     "name": "stdout",
     "output_type": "stream",
     "text": [
      "{('x0', 'y0', 'z0'): 1, ('x0', 'y0', 'z1'): 1, ('x0', 'y0', 'z2'): 1, ('x0', 'y0', 'z3'): 1, ('x0', 'y1', 'z0'): 1, ('x0', 'y1', 'z1'): -1, ('x0', 'y1', 'z2'): 1, ('x0', 'y1', 'z3'): -1, ('x0', 'y2', 'z0'): 1, ('x0', 'y2', 'z1'): 1, ('x0', 'y2', 'z2'): 1, ('x0', 'y2', 'z3'): 1, ('x0', 'y3', 'z0'): 1, ('x0', 'y3', 'z1'): -1, ('x0', 'y3', 'z2'): 1, ('x0', 'y3', 'z3'): -1, ('x1', 'y0', 'z0'): 1, ('x1', 'y0', 'z1'): 1, ('x1', 'y0', 'z2'): 1, ('x1', 'y0', 'z3'): 1, ('x1', 'y1', 'z0'): 1, ('x1', 'y1', 'z1'): 1, ('x1', 'y1', 'z2'): 1, ('x1', 'y1', 'z3'): 1, ('x1', 'y2', 'z0'): -1, ('x1', 'y2', 'z1'): 1, ('x1', 'y2', 'z2'): 1, ('x1', 'y2', 'z3'): 1, ('x1', 'y3', 'z0'): -1, ('x1', 'y3', 'z1'): 1, ('x1', 'y3', 'z2'): 1, ('x1', 'y3', 'z3'): 1, ('x2', 'y0', 'z0'): 1, ('x2', 'y0', 'z1'): 1, ('x2', 'y0', 'z2'): -1, ('x2', 'y0', 'z3'): -1, ('x2', 'y1', 'z0'): 1, ('x2', 'y1', 'z1'): 1, ('x2', 'y1', 'z2'): 1, ('x2', 'y1', 'z3'): 1, ('x2', 'y2', 'z0'): 1, ('x2', 'y2', 'z1'): 1, ('x2', 'y2', 'z2'): 1, ('x2', 'y2', 'z3'): 1, ('x2', 'y3', 'z0'): 1, ('x2', 'y3', 'z1'): 1, ('x2', 'y3', 'z2'): 1, ('x2', 'y3', 'z3'): 1, ('x3', 'y0', 'z0'): 1, ('x3', 'y0', 'z1'): 1, ('x3', 'y0', 'z2'): -1, ('x3', 'y0', 'z3'): -1, ('x3', 'y1', 'z0'): 1, ('x3', 'y1', 'z1'): 1, ('x3', 'y1', 'z2'): 1, ('x3', 'y1', 'z3'): 1, ('x3', 'y2', 'z0'): -1, ('x3', 'y2', 'z1'): 1, ('x3', 'y2', 'z2'): 1, ('x3', 'y2', 'z3'): 1, ('x3', 'y3', 'z0'): -1, ('x3', 'y3', 'z1'): 1, ('x3', 'y3', 'z2'): 1, ('x3', 'y3', 'z3'): 1}\n"
     ]
    }
   ],
   "source": [
    "bqm = towards_user_defined_small(initial_tensor - strassen_tensors[0] - strassen_tensors[1] - strassen_tensors[2] - strassen_tensors[3], origo, dim)"
   ]
  },
  {
   "cell_type": "code",
   "execution_count": 4,
   "id": "765ae443-6712-4938-8030-52415ec9eec6",
   "metadata": {},
   "outputs": [
    {
     "name": "stdout",
     "output_type": "stream",
     "text": [
      "Energy:  -7308.0\n",
      "({'x0': 0, 'x0*y0': 1, 'x0*z0': 1, 'x1': 0, 'x1*z0': 1, 'x2': 0, 'x2*y1': 1, 'x2*y2': 1, 'x2*z0': 1, 'x2*z3': 1, 'x3': 0, 'x3*z0': 1, 'y0': 0, 'y1': 0, 'y1*x0': 1, 'y1*x3': 1, 'y2': 0, 'y2*x0': 1, 'y2*x3': 1, 'y3': 0, 'z0': 0, 'z1': 0, 'z1*x1': 1, 'z1*y0': 1, 'z1*y3': 1, 'z2': 0, 'z2*x1': 1, 'z2*y0': 1, 'z2*y3': 1, 'z3': 0, 'z3*x1': 1, 'z3*x3': 1, 'z3*y3': 1}, -7308.0)\n"
     ]
    }
   ],
   "source": [
    "sample = solve_bqm_in_leap(bqm, \"Greedy\")\n",
    "print(sample)"
   ]
  },
  {
   "cell_type": "code",
   "execution_count": 5,
   "id": "7ea8501e-5479-4bdf-b7bd-cf6c141b1171",
   "metadata": {},
   "outputs": [
    {
     "name": "stdout",
     "output_type": "stream",
     "text": [
      "Error:  0\n"
     ]
    },
    {
     "data": {
      "text/plain": [
       "([], [], [])"
      ]
     },
     "execution_count": 5,
     "metadata": {},
     "output_type": "execute_result"
    }
   ],
   "source": [
    "process_result(sample[0], dim)"
   ]
  },
  {
   "cell_type": "code",
   "execution_count": null,
   "id": "a1cd3512-69ff-491f-b73e-95e30079f866",
   "metadata": {},
   "outputs": [],
   "source": []
  }
 ],
 "metadata": {
  "kernelspec": {
   "display_name": "Python 3 (ipykernel)",
   "language": "python",
   "name": "python3"
  },
  "language_info": {
   "codemirror_mode": {
    "name": "ipython",
    "version": 3
   },
   "file_extension": ".py",
   "mimetype": "text/x-python",
   "name": "python",
   "nbconvert_exporter": "python",
   "pygments_lexer": "ipython3",
   "version": "3.10.8"
  }
 },
 "nbformat": 4,
 "nbformat_minor": 5
}
