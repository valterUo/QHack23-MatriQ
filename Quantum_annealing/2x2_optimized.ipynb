{
 "cells": [
  {
   "cell_type": "markdown",
   "id": "eaa931ce-20ef-4711-aea0-efc78a8b4df1",
   "metadata": {},
   "source": [
    "# Searching for faster matrix multiplication algorithms with quantum annealing"
   ]
  },
  {
   "cell_type": "markdown",
   "id": "ce341907-d486-4d76-8eaa-3b68a09d46f3",
   "metadata": {},
   "source": [
    "The notebook 2x2.ipynb implements an algorithm which translates higher order polynomials into quadratic format an unefficient way. This implementation aims to solve the problem."
   ]
  },
  {
   "cell_type": "code",
   "execution_count": 7,
   "id": "0f319900-ea1a-438e-bd65-1c88b31fef09",
   "metadata": {},
   "outputs": [],
   "source": [
    "import os\n",
    "import sys\n",
    "import dimod\n",
    "import matplotlib.pyplot as plt\n",
    "import numpy as np\n",
    "\n",
    "this_folder = os.path.dirname(os.path.abspath(os.getcwd()))\n",
    "sys.path.insert(0, this_folder)\n",
    "\n",
    "from utils import *\n",
    "from optimized_qubos import *\n",
    "\n",
    "dim = 2\n",
    "initial_tensor = get_standard_tensor(dim) % 2\n",
    "origo = np.tensordot([0]*4, np.tensordot([0]*4, [0]*4, axes=0), axes=0)"
   ]
  },
  {
   "cell_type": "code",
   "execution_count": 8,
   "id": "d615b9bb-3c21-4ae1-bbdb-08eea51a76e8",
   "metadata": {},
   "outputs": [],
   "source": [
    "strassen_tensors = [np.tensordot([0,0,0,1], np.tensordot([-1,0,1,0], [1,0,1,0], axes=0), axes=0),\n",
    "          np.tensordot([1,1,0,0], np.tensordot([0,0,0,1], [-1,1,0,0], axes=0), axes=0),\n",
    "           np.tensordot([-1,0,1,0], np.tensordot([1,1,0,0], [0,0,0,1], axes=0), axes=0),\n",
    "           np.tensordot([1,0,0,1], np.tensordot([1,0,0,1], [1,0,0,1], axes=0), axes=0),\n",
    "          np.tensordot([0,1,0,-1], np.tensordot([0,0,1,1], [1,0,0,0], axes=0), axes=0),\n",
    "           np.tensordot([1,0,0,0], np.tensordot([0,1,0,-1], [0,1,0,1], axes=0), axes=0),\n",
    "           np.tensordot([0,0,1,1], np.tensordot([1,0,0,0], [0,0,1,-1], axes=0), axes=0)]"
   ]
  },
  {
   "cell_type": "markdown",
   "id": "3c74fadf-4672-41c0-abd3-4976f71052ab",
   "metadata": {},
   "source": [
    "The algorithm requires two good guesses: the tensor `np.tensordot([1,0,0,1], np.tensordot([1,0,0,1], [1,0,0,1], axes=0), axes=0)` and the initial tensor which is calculated in the beginning of the next cell."
   ]
  },
  {
   "cell_type": "code",
   "execution_count": 9,
   "id": "a1cd3512-69ff-491f-b73e-95e30079f866",
   "metadata": {},
   "outputs": [
    {
     "name": "stdout",
     "output_type": "stream",
     "text": [
      "Energy:  -4.0\n",
      "Number of errors: 0\n",
      "[1 0 0 0] [0 1 0 1] [0 1 0 1]\n",
      "Energy:  -4.0\n",
      "Number of errors: 0\n",
      "[0 0 1 1] [1 0 0 0] [0 0 1 1]\n",
      "Energy:  -4.0\n",
      "Number of errors: 0\n",
      "[0 1 0 1] [0 0 1 1] [1 0 0 0]\n",
      "End\n",
      "Energy:  -4.0\n",
      "Number of errors: 0\n",
      "[0 0 0 1] [1 0 1 0] [1 0 1 0]\n",
      "Energy:  -4.0\n",
      "Number of errors: 0\n",
      "[1 1 0 0] [0 0 0 1] [1 1 0 0]\n",
      "Energy:  -4.0\n",
      "Number of errors: 0\n",
      "[1 0 1 0] [1 1 0 0] [0 0 0 1]\n",
      "End\n"
     ]
    }
   ],
   "source": [
    "tensor = (initial_tensor - strassen_tensors[0] - strassen_tensors[1] - strassen_tensors[2] - strassen_tensors[3]) % 2\n",
    "\n",
    "# Moving towards origo\n",
    "while(True):\n",
    "    bqm = towards_user_defined_small(tensor, origo, dim)\n",
    "    sample, energy, sampleset = solve_bqm_in_leap(bqm, \"Greedy\")\n",
    "    #print(sampleset)\n",
    "    x1, y1, z1 = process_result(sample, 2)\n",
    "    print(x1, y1, z1)\n",
    "    tensor = (tensor - np.tensordot(x1, np.tensordot(y1, z1, axes=0), axes=0)) % 2\n",
    "    if np.count_nonzero(tensor.flatten()) == 0:\n",
    "        print(\"End\")\n",
    "        break\n",
    "        \n",
    "tensor = (initial_tensor + strassen_tensors[0] + strassen_tensors[1] + strassen_tensors[2]) % 2\n",
    "# Moving towards standard matrix multiplication i.e. the naive method\n",
    "while(True):\n",
    "    bqm = towards_user_defined_small(tensor, initial_tensor, dim)\n",
    "    sample, energy, sampleset = solve_bqm_in_leap(bqm, \"Greedy\")\n",
    "    #print(sampleset)\n",
    "    x1, y1, z1 = process_result(sample, 2)\n",
    "    print(x1, y1, z1)\n",
    "    tensor = (tensor - np.tensordot(x1, np.tensordot(y1, z1, axes=0), axes=0)) % 2\n",
    "    if np.array_equal(tensor, initial_tensor):\n",
    "        print(\"End\")\n",
    "        break"
   ]
  },
  {
   "cell_type": "code",
   "execution_count": null,
   "id": "653d7703-1acb-4c5d-bf73-56424d7ca296",
   "metadata": {},
   "outputs": [],
   "source": []
  }
 ],
 "metadata": {
  "kernelspec": {
   "display_name": "Python 3 (ipykernel)",
   "language": "python",
   "name": "python3"
  },
  "language_info": {
   "codemirror_mode": {
    "name": "ipython",
    "version": 3
   },
   "file_extension": ".py",
   "mimetype": "text/x-python",
   "name": "python",
   "nbconvert_exporter": "python",
   "pygments_lexer": "ipython3",
   "version": "3.10.8"
  }
 },
 "nbformat": 4,
 "nbformat_minor": 5
}
