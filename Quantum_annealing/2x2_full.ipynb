{
 "cells": [
  {
   "cell_type": "code",
   "execution_count": 1,
   "id": "bb795263-7dc1-4ea7-a6cd-2241f070b579",
   "metadata": {},
   "outputs": [],
   "source": [
    "import os\n",
    "import sys\n",
    "import dimod\n",
    "import matplotlib.pyplot as plt\n",
    "import numpy as np\n",
    "\n",
    "this_folder = os.path.dirname(os.path.abspath(os.getcwd()))\n",
    "sys.path.insert(0, this_folder)\n",
    "\n",
    "from utils import *\n",
    "from optimized_qubos import *\n",
    "\n",
    "dim = 2\n",
    "initial_tensor = get_standard_tensor(dim) #% 2\n",
    "suggested_optimal = 7 #Proved optimal for multiplying 2x2 matrices\n",
    "origo = np.tensordot([0]*4, np.tensordot([0]*4, [0]*4, axes=0), axes=0)"
   ]
  },
  {
   "cell_type": "code",
   "execution_count": 2,
   "id": "1a13ae80-00f0-489e-aeaf-84ce4291db2c",
   "metadata": {},
   "outputs": [],
   "source": [
    "strassen_tensors_np = [np.tensordot([0,0,0,1], np.tensordot([-1,0,1,0], [1,0,1,0], axes=0), axes=0),\n",
    "           np.tensordot([1,1,0,0], np.tensordot([0,0,0,1], [-1,1,0,0], axes=0), axes=0),\n",
    "           np.tensordot([-1,0,1,0], np.tensordot([1,1,0,0], [0,0,0,1], axes=0), axes=0),\n",
    "           np.tensordot([1,0,0,1], np.tensordot([1,0,0,1], [1,0,0,1], axes=0), axes=0),\n",
    "           np.tensordot([0,1,0,-1], np.tensordot([0,0,1,1], [1,0,0,0], axes=0), axes=0),\n",
    "           np.tensordot([1,0,0,0], np.tensordot([0,1,0,-1], [0,1,0,1], axes=0), axes=0),\n",
    "           np.tensordot([0,0,1,1], np.tensordot([1,0,0,0], [0,0,1,-1], axes=0), axes=0)]"
   ]
  },
  {
   "cell_type": "code",
   "execution_count": 3,
   "id": "897c2e5b-aead-4737-a7d7-0a8cc6cb233f",
   "metadata": {},
   "outputs": [],
   "source": [
    "def construct_all_tensors(sample, dim):\n",
    "    positive_linear_vars = []\n",
    "    tensors = []\n",
    "    for i in range(suggested_optimal):\n",
    "        x, y, z = [], [], []\n",
    "        for j in range(dim**2):\n",
    "            x.append(sample[str(i) + \"x\" + str(j)])\n",
    "            y.append(sample[str(i) + \"y\" + str(j)])\n",
    "            z.append(sample[str(i) + \"z\" + str(j)])\n",
    "        tensors.append([x,y,z])\n",
    "    return tensors"
   ]
  },
  {
   "cell_type": "code",
   "execution_count": 4,
   "id": "75cf8edb-821a-4a56-9fc7-eee8ba2fa620",
   "metadata": {},
   "outputs": [
    {
     "name": "stdout",
     "output_type": "stream",
     "text": [
      "Number of linear variables:  717\n",
      "Number of quadratic variables:  3467\n",
      "Energy:  17.0\n",
      "No success\n",
      "[[[1, 0, 1, 0], [0, 1, 0, 0], [0, 0, 1, 0]], [[0, 1, 0, 0], [0, 1, 0, 0], [1, 0, 0, 0]], [[1, 0, 0, 1], [1, 1, 0, 0], [0, 0, 0, 1]], [[0, 0, 0, 0], [1, 0, 1, 0], [0, 1, 0, 0]], [[0, 1, 1, 0], [0, 1, 1, 0], [0, 0, 0, 0]], [[0, 1, 1, 0], [0, 0, 1, 1], [1, 0, 0, 0]], [[1, 0, 1, 1], [0, 1, 0, 0], [0, 1, 1, 0]]]\n",
      "[[[1. 0. 0. 1.]\n",
      "  [0. 0. 0. 1.]\n",
      "  [0. 0. 0. 0.]\n",
      "  [0. 0. 0. 0.]]\n",
      "\n",
      " [[0. 0. 0. 0.]\n",
      "  [1. 0. 0. 0.]\n",
      "  [0. 0. 0. 0.]\n",
      "  [1. 1. 0. 0.]]\n",
      "\n",
      " [[0. 0. 1. 0.]\n",
      "  [0. 1. 0. 1.]\n",
      "  [1. 0. 0. 0.]\n",
      "  [1. 0. 0. 0.]]\n",
      "\n",
      " [[0. 0. 0. 1.]\n",
      "  [0. 1. 1. 1.]\n",
      "  [0. 0. 1. 0.]\n",
      "  [0. 0. 0. 1.]]]\n"
     ]
    }
   ],
   "source": [
    "weight = 10\n",
    "initial_tensor = get_standard_tensor(dim)\n",
    "bqm, hubo, aux_ids = towards_user_defined_full(initial_tensor, dim, suggested_optimal, weight)\n",
    "\n",
    "print(\"Number of linear variables: \", len(bqm.linear))\n",
    "print(\"Number of quadratic variables: \", len(bqm.quadratic))\n",
    "\n",
    "sample, energy, sampleset = solve_bqm_in_leap(bqm, \"LeapHybrid\")\n",
    "\n",
    "tensors = construct_all_tensors(sample, dim)\n",
    "\n",
    "initial_tensor = get_standard_tensor(dim)\n",
    "for t in tensors:\n",
    "    initial_tensor = np.mod(initial_tensor - np.tensordot(t[0], np.tensordot(t[1], t[2], axes=0), axes=0), 2)\n",
    "    \n",
    "if np.count_nonzero(initial_tensor.flatten()) == 0:\n",
    "    print(\"Success!\")\n",
    "else:\n",
    "    print(\"No success\")\n",
    "    \n",
    "print(tensors)\n",
    "print(initial_tensor)"
   ]
  },
  {
   "cell_type": "raw",
   "id": "51fbecf0-85e7-4336-aa3a-8e56aa68366c",
   "metadata": {},
   "source": [
    "t = get_test_strassen_test_tensor(bqm, aux_ids)\n",
    "for key in t:\n",
    "    if t[key] == 1:\n",
    "        print(key)"
   ]
  },
  {
   "cell_type": "raw",
   "id": "ee9ff3fe-dfcb-479c-b7ae-d66ce2009694",
   "metadata": {},
   "source": [
    "print(aux_ids)"
   ]
  },
  {
   "cell_type": "raw",
   "id": "914eb893-e459-4f0c-9164-451a6bc2680d",
   "metadata": {},
   "source": [
    "initial_tensor = get_standard_tensor(dim)\n",
    "for t in tensors:\n",
    "    initial_tensor = np.mod(initial_tensor - np.tensordot(t[0], np.tensordot(t[1], t[2], axes=0), axes=0), 2)\n",
    "    print(initial_tensor)"
   ]
  },
  {
   "cell_type": "raw",
   "id": "aabb9e28-57f5-409a-91d7-e57d42ba4486",
   "metadata": {},
   "source": [
    "sample"
   ]
  },
  {
   "cell_type": "markdown",
   "id": "6b422a0a-790e-499d-8170-ee2ac2a1867c",
   "metadata": {},
   "source": [
    "The following line shows that the quantum annealer did not find the optimal point because we can construct a point with lower energy."
   ]
  },
  {
   "cell_type": "code",
   "execution_count": 5,
   "id": "c97e9d18-12c3-4d02-8dd1-a2e3b37d2d69",
   "metadata": {},
   "outputs": [
    {
     "data": {
      "text/plain": [
       "0.0"
      ]
     },
     "execution_count": 5,
     "metadata": {},
     "output_type": "execute_result"
    }
   ],
   "source": [
    "bqm.energy(get_test_strassen_test_tensor(bqm, aux_ids))"
   ]
  }
 ],
 "metadata": {
  "kernelspec": {
   "display_name": "Python 3 (ipykernel)",
   "language": "python",
   "name": "python3"
  },
  "language_info": {
   "codemirror_mode": {
    "name": "ipython",
    "version": 3
   },
   "file_extension": ".py",
   "mimetype": "text/x-python",
   "name": "python",
   "nbconvert_exporter": "python",
   "pygments_lexer": "ipython3",
   "version": "3.10.8"
  }
 },
 "nbformat": 4,
 "nbformat_minor": 5
}
