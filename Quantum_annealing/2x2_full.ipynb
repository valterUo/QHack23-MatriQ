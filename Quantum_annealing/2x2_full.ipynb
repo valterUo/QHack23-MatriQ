{
 "cells": [
  {
   "cell_type": "code",
   "execution_count": 1,
   "id": "bb795263-7dc1-4ea7-a6cd-2241f070b579",
   "metadata": {},
   "outputs": [],
   "source": [
    "import os\n",
    "import sys\n",
    "import dimod\n",
    "import matplotlib.pyplot as plt\n",
    "import numpy as np\n",
    "\n",
    "this_folder = os.path.dirname(os.path.abspath(os.getcwd()))\n",
    "sys.path.insert(0, this_folder)\n",
    "\n",
    "from utils import *\n",
    "from optimized_qubos import *\n",
    "\n",
    "dim = 2\n",
    "initial_tensor = get_standard_tensor(dim) % 2\n",
    "suggested_optimal = 47 #Proved optimal for multiplying 2x2 matrices\n",
    "origo = np.tensordot([0]*4, np.tensordot([0]*4, [0]*4, axes=0), axes=0)"
   ]
  },
  {
   "cell_type": "code",
   "execution_count": 2,
   "id": "1a13ae80-00f0-489e-aeaf-84ce4291db2c",
   "metadata": {},
   "outputs": [],
   "source": [
    "strassen_tensors = [np.tensordot([0,0,0,1], np.tensordot([-1,0,1,0], [1,0,1,0], axes=0), axes=0),\n",
    "          np.tensordot([1,1,0,0], np.tensordot([0,0,0,1], [-1,1,0,0], axes=0), axes=0),\n",
    "           np.tensordot([-1,0,1,0], np.tensordot([1,1,0,0], [0,0,0,1], axes=0), axes=0),\n",
    "           np.tensordot([1,0,0,1], np.tensordot([1,0,0,1], [1,0,0,1], axes=0), axes=0),\n",
    "          np.tensordot([0,1,0,-1], np.tensordot([0,0,1,1], [1,0,0,0], axes=0), axes=0),\n",
    "           np.tensordot([1,0,0,0], np.tensordot([0,1,0,-1], [0,1,0,1], axes=0), axes=0),\n",
    "           np.tensordot([0,0,1,1], np.tensordot([1,0,0,0], [0,0,1,-1], axes=0), axes=0)]"
   ]
  },
  {
   "cell_type": "code",
   "execution_count": 3,
   "id": "75cf8edb-821a-4a56-9fc7-eee8ba2fa620",
   "metadata": {},
   "outputs": [
    {
     "name": "stdout",
     "output_type": "stream",
     "text": [
      "Number of linear variables:  218525\n",
      "Number of quadratic variables:  4894775\n"
     ]
    },
    {
     "ename": "NameError",
     "evalue": "name 'tensor' is not defined",
     "output_type": "error",
     "traceback": [
      "\u001b[1;31m---------------------------------------------------------------------------\u001b[0m",
      "\u001b[1;31mNameError\u001b[0m                                 Traceback (most recent call last)",
      "Input \u001b[1;32mIn [3]\u001b[0m, in \u001b[0;36m<module>\u001b[1;34m\u001b[0m\n\u001b[0;32m      5\u001b[0m \u001b[38;5;28mprint\u001b[39m(\u001b[38;5;124m\"\u001b[39m\u001b[38;5;124mNumber of quadratic variables: \u001b[39m\u001b[38;5;124m\"\u001b[39m, \u001b[38;5;28mlen\u001b[39m(bqm\u001b[38;5;241m.\u001b[39mquadratic))\n\u001b[0;32m      6\u001b[0m \u001b[38;5;66;03m#sample, energy, sampleset = solve_bqm_in_leap(bqm, \"Greedy\")\u001b[39;00m\n\u001b[0;32m      7\u001b[0m \u001b[38;5;66;03m#print(sampleset)\u001b[39;00m\n\u001b[0;32m      8\u001b[0m \u001b[38;5;66;03m#x1, y1, z1 = process_result(sample, 2)\u001b[39;00m\n\u001b[0;32m      9\u001b[0m \u001b[38;5;66;03m#print(x1, y1, z1)\u001b[39;00m\n\u001b[1;32m---> 10\u001b[0m tensor \u001b[38;5;241m=\u001b[39m (\u001b[43mtensor\u001b[49m \u001b[38;5;241m-\u001b[39m np\u001b[38;5;241m.\u001b[39mtensordot(x1, np\u001b[38;5;241m.\u001b[39mtensordot(y1, z1, axes\u001b[38;5;241m=\u001b[39m\u001b[38;5;241m0\u001b[39m), axes\u001b[38;5;241m=\u001b[39m\u001b[38;5;241m0\u001b[39m)) \u001b[38;5;241m%\u001b[39m \u001b[38;5;241m2\u001b[39m\n\u001b[0;32m     11\u001b[0m \u001b[38;5;28;01mif\u001b[39;00m np\u001b[38;5;241m.\u001b[39mcount_nonzero(tensor\u001b[38;5;241m.\u001b[39mflatten()) \u001b[38;5;241m==\u001b[39m \u001b[38;5;241m0\u001b[39m:\n\u001b[0;32m     12\u001b[0m     \u001b[38;5;28mprint\u001b[39m(\u001b[38;5;124m\"\u001b[39m\u001b[38;5;124mEnd\u001b[39m\u001b[38;5;124m\"\u001b[39m)\n",
      "\u001b[1;31mNameError\u001b[0m: name 'tensor' is not defined"
     ]
    }
   ],
   "source": [
    "# Moving towards origo\n",
    "while(True):\n",
    "    bqm = towards_user_defined_full(initial_tensor, dim, suggested_optimal)\n",
    "    print(\"Number of linear variables: \", len(bqm.linear))\n",
    "    print(\"Number of quadratic variables: \", len(bqm.quadratic))\n",
    "    sample, energy, sampleset = solve_bqm_in_leap(bqm, \"Greedy\")\n",
    "    #print(sampleset)\n",
    "    x1, y1, z1 = process_result(sample, 2)\n",
    "    #print(x1, y1, z1)\n",
    "    tensor = (tensor - np.tensordot(x1, np.tensordot(y1, z1, axes=0), axes=0)) % 2\n",
    "    if np.count_nonzero(tensor.flatten()) == 0:\n",
    "        print(\"End\")\n",
    "        break"
   ]
  }
 ],
 "metadata": {
  "kernelspec": {
   "display_name": "Python 3 (ipykernel)",
   "language": "python",
   "name": "python3"
  },
  "language_info": {
   "codemirror_mode": {
    "name": "ipython",
    "version": 3
   },
   "file_extension": ".py",
   "mimetype": "text/x-python",
   "name": "python",
   "nbconvert_exporter": "python",
   "pygments_lexer": "ipython3",
   "version": "3.10.8"
  }
 },
 "nbformat": 4,
 "nbformat_minor": 5
}
