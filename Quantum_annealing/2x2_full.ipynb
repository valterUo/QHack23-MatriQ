{
 "cells": [
  {
   "cell_type": "code",
   "execution_count": 1,
   "id": "bb795263-7dc1-4ea7-a6cd-2241f070b579",
   "metadata": {},
   "outputs": [],
   "source": [
    "import os\n",
    "import sys\n",
    "import dimod\n",
    "import matplotlib.pyplot as plt\n",
    "import numpy as np\n",
    "\n",
    "this_folder = os.path.dirname(os.path.abspath(os.getcwd()))\n",
    "sys.path.insert(0, this_folder)\n",
    "\n",
    "from utils import *\n",
    "from optimized_qubos import *\n",
    "\n",
    "dim = 2\n",
    "initial_tensor = get_standard_tensor(dim) #% 2\n",
    "suggested_optimal = 7 #Proved optimal for multiplying 2x2 matrices\n",
    "origo = np.tensordot([0]*4, np.tensordot([0]*4, [0]*4, axes=0), axes=0)"
   ]
  },
  {
   "cell_type": "code",
   "execution_count": 2,
   "id": "1a13ae80-00f0-489e-aeaf-84ce4291db2c",
   "metadata": {},
   "outputs": [],
   "source": [
    "strassen_tensors_np = [np.tensordot([0,0,0,1], np.tensordot([-1,0,1,0], [1,0,1,0], axes=0), axes=0),\n",
    "           np.tensordot([1,1,0,0], np.tensordot([0,0,0,1], [-1,1,0,0], axes=0), axes=0),\n",
    "           np.tensordot([-1,0,1,0], np.tensordot([1,1,0,0], [0,0,0,1], axes=0), axes=0),\n",
    "           np.tensordot([1,0,0,1], np.tensordot([1,0,0,1], [1,0,0,1], axes=0), axes=0),\n",
    "           np.tensordot([0,1,0,-1], np.tensordot([0,0,1,1], [1,0,0,0], axes=0), axes=0),\n",
    "           np.tensordot([1,0,0,0], np.tensordot([0,1,0,-1], [0,1,0,1], axes=0), axes=0),\n",
    "           np.tensordot([0,0,1,1], np.tensordot([1,0,0,0], [0,0,1,-1], axes=0), axes=0)]"
   ]
  },
  {
   "cell_type": "code",
   "execution_count": 3,
   "id": "897c2e5b-aead-4737-a7d7-0a8cc6cb233f",
   "metadata": {},
   "outputs": [],
   "source": [
    "def construct_all_tensors(sample, dim):\n",
    "    positive_linear_vars = []\n",
    "    tensors = []\n",
    "    for i in range(suggested_optimal):\n",
    "        x, y, z = [], [], []\n",
    "        for j in range(dim**2):\n",
    "            x.append(sample[str(i) + \"x\" + str(j)])\n",
    "            y.append(sample[str(i) + \"y\" + str(j)])\n",
    "            z.append(sample[str(i) + \"z\" + str(j)])\n",
    "        tensors.append([x,y,z])\n",
    "    return tensors"
   ]
  },
  {
   "cell_type": "code",
   "execution_count": 4,
   "id": "75cf8edb-821a-4a56-9fc7-eee8ba2fa620",
   "metadata": {},
   "outputs": [
    {
     "name": "stdout",
     "output_type": "stream",
     "text": [
      "Number of linear variables:  742\n",
      "Number of quadratic variables:  3542\n"
     ]
    },
    {
     "ename": "ValueError",
     "evalue": "Maximum allowed dimension exceeded",
     "output_type": "error",
     "traceback": [
      "\u001b[1;31m---------------------------------------------------------------------------\u001b[0m",
      "\u001b[1;31mValueError\u001b[0m                                Traceback (most recent call last)",
      "Input \u001b[1;32mIn [4]\u001b[0m, in \u001b[0;36m<module>\u001b[1;34m\u001b[0m\n\u001b[0;32m      6\u001b[0m \u001b[38;5;28mprint\u001b[39m(\u001b[38;5;124m\"\u001b[39m\u001b[38;5;124mNumber of quadratic variables: \u001b[39m\u001b[38;5;124m\"\u001b[39m, \u001b[38;5;28mlen\u001b[39m(bqm\u001b[38;5;241m.\u001b[39mquadratic))\n\u001b[0;32m      7\u001b[0m \u001b[38;5;66;03m#sample, energy, sampleset = solve_bqm_in_leap(bqm, \"LeapHybrid\")\u001b[39;00m\n\u001b[1;32m----> 8\u001b[0m sample \u001b[38;5;241m=\u001b[39m \u001b[43mdimod\u001b[49m\u001b[38;5;241;43m.\u001b[39;49m\u001b[43mExactPolySolver\u001b[49m\u001b[43m(\u001b[49m\u001b[43m)\u001b[49m\u001b[38;5;241;43m.\u001b[39;49m\u001b[43msample_hubo\u001b[49m\u001b[43m(\u001b[49m\u001b[43mhubo\u001b[49m\u001b[43m)\u001b[49m\u001b[38;5;241m.\u001b[39mfirst\n\u001b[0;32m      9\u001b[0m tensors \u001b[38;5;241m=\u001b[39m construct_all_tensors(sample, dim)\n\u001b[0;32m     10\u001b[0m \u001b[38;5;28;01mfor\u001b[39;00m t \u001b[38;5;129;01min\u001b[39;00m tensors:\n",
      "File \u001b[1;32m~\\AppData\\Local\\Programs\\Python\\Python310\\lib\\site-packages\\dimod\\core\\polysampler.py:103\u001b[0m, in \u001b[0;36mPolySampler.sample_hubo\u001b[1;34m(self, H, **kwargs)\u001b[0m\n\u001b[0;32m     83\u001b[0m \u001b[38;5;28;01mdef\u001b[39;00m \u001b[38;5;21msample_hubo\u001b[39m(\u001b[38;5;28mself\u001b[39m, H: typing\u001b[38;5;241m.\u001b[39mMapping[typing\u001b[38;5;241m.\u001b[39mTuple[Variable, Variable], Bias],\n\u001b[0;32m     84\u001b[0m                 \u001b[38;5;241m*\u001b[39m\u001b[38;5;241m*\u001b[39mkwargs) \u001b[38;5;241m-\u001b[39m\u001b[38;5;241m>\u001b[39m SampleSet:\n\u001b[0;32m     85\u001b[0m     \u001b[38;5;124;03m\"\"\"Sample from a higher-order unconstrained binary optimization problem.\u001b[39;00m\n\u001b[0;32m     86\u001b[0m \n\u001b[0;32m     87\u001b[0m \u001b[38;5;124;03m    Converts the given higher-order unconstrained binary optimization\u001b[39;00m\n\u001b[1;32m   (...)\u001b[0m\n\u001b[0;32m    101\u001b[0m \n\u001b[0;32m    102\u001b[0m \u001b[38;5;124;03m    \"\"\"\u001b[39;00m\n\u001b[1;32m--> 103\u001b[0m     \u001b[38;5;28;01mreturn\u001b[39;00m \u001b[38;5;28mself\u001b[39m\u001b[38;5;241m.\u001b[39msample_poly(BinaryPolynomial\u001b[38;5;241m.\u001b[39mfrom_hubo(H), \u001b[38;5;241m*\u001b[39m\u001b[38;5;241m*\u001b[39mkwargs)\n",
      "File \u001b[1;32m~\\AppData\\Local\\Programs\\Python\\Python310\\lib\\site-packages\\dimod\\reference\\samplers\\exact_solver.py:142\u001b[0m, in \u001b[0;36mExactPolySolver.sample_poly\u001b[1;34m(self, polynomial, **kwargs)\u001b[0m\n\u001b[0;32m    131\u001b[0m \u001b[38;5;28;01mdef\u001b[39;00m \u001b[38;5;21msample_poly\u001b[39m(\u001b[38;5;28mself\u001b[39m, polynomial: BinaryPolynomial, \u001b[38;5;241m*\u001b[39m\u001b[38;5;241m*\u001b[39mkwargs) \u001b[38;5;241m-\u001b[39m\u001b[38;5;241m>\u001b[39m SampleSet:\n\u001b[0;32m    132\u001b[0m     \u001b[38;5;124;03m\"\"\"Sample from a binary polynomial.\u001b[39;00m\n\u001b[0;32m    133\u001b[0m \n\u001b[0;32m    134\u001b[0m \u001b[38;5;124;03m    Args:\u001b[39;00m\n\u001b[1;32m   (...)\u001b[0m\n\u001b[0;32m    140\u001b[0m \n\u001b[0;32m    141\u001b[0m \u001b[38;5;124;03m    \"\"\"\u001b[39;00m\n\u001b[1;32m--> 142\u001b[0m     \u001b[38;5;28;01mreturn\u001b[39;00m ExactSolver()\u001b[38;5;241m.\u001b[39msample(polynomial, \u001b[38;5;241m*\u001b[39m\u001b[38;5;241m*\u001b[39mkwargs)\n",
      "File \u001b[1;32m~\\AppData\\Local\\Programs\\Python\\Python310\\lib\\site-packages\\dimod\\reference\\samplers\\exact_solver.py:83\u001b[0m, in \u001b[0;36mExactSolver.sample\u001b[1;34m(self, bqm, **kwargs)\u001b[0m\n\u001b[0;32m     80\u001b[0m \u001b[38;5;28;01mif\u001b[39;00m \u001b[38;5;129;01mnot\u001b[39;00m \u001b[38;5;28mlen\u001b[39m(bqm\u001b[38;5;241m.\u001b[39mvariables):\n\u001b[0;32m     81\u001b[0m     \u001b[38;5;28;01mreturn\u001b[39;00m SampleSet\u001b[38;5;241m.\u001b[39mfrom_samples([], bqm\u001b[38;5;241m.\u001b[39mvartype, energy\u001b[38;5;241m=\u001b[39m[])\n\u001b[1;32m---> 83\u001b[0m samples \u001b[38;5;241m=\u001b[39m \u001b[43m_graycode\u001b[49m\u001b[43m(\u001b[49m\u001b[43mbqm\u001b[49m\u001b[43m)\u001b[49m\n\u001b[0;32m     85\u001b[0m \u001b[38;5;28;01mif\u001b[39;00m bqm\u001b[38;5;241m.\u001b[39mvartype \u001b[38;5;129;01mis\u001b[39;00m Vartype\u001b[38;5;241m.\u001b[39mSPIN:\n\u001b[0;32m     86\u001b[0m     samples \u001b[38;5;241m=\u001b[39m \u001b[38;5;241m2\u001b[39m\u001b[38;5;241m*\u001b[39msamples \u001b[38;5;241m-\u001b[39m \u001b[38;5;241m1\u001b[39m\n",
      "File \u001b[1;32m~\\AppData\\Local\\Programs\\Python\\Python310\\lib\\site-packages\\dimod\\reference\\samplers\\exact_solver.py:255\u001b[0m, in \u001b[0;36m_graycode\u001b[1;34m(bqm)\u001b[0m\n\u001b[0;32m    253\u001b[0m n \u001b[38;5;241m=\u001b[39m \u001b[38;5;28mlen\u001b[39m(bqm\u001b[38;5;241m.\u001b[39mvariables)\n\u001b[0;32m    254\u001b[0m ns \u001b[38;5;241m=\u001b[39m \u001b[38;5;241m1\u001b[39m \u001b[38;5;241m<<\u001b[39m n\n\u001b[1;32m--> 255\u001b[0m samples \u001b[38;5;241m=\u001b[39m \u001b[43mnp\u001b[49m\u001b[38;5;241;43m.\u001b[39;49m\u001b[43mempty\u001b[49m\u001b[43m(\u001b[49m\u001b[43m(\u001b[49m\u001b[43mns\u001b[49m\u001b[43m,\u001b[49m\u001b[43m \u001b[49m\u001b[43mn\u001b[49m\u001b[43m)\u001b[49m\u001b[43m,\u001b[49m\u001b[43m \u001b[49m\u001b[43mdtype\u001b[49m\u001b[38;5;241;43m=\u001b[39;49m\u001b[43mnp\u001b[49m\u001b[38;5;241;43m.\u001b[39;49m\u001b[43mint8\u001b[49m\u001b[43m)\u001b[49m\n\u001b[0;32m    257\u001b[0m samples[\u001b[38;5;241m0\u001b[39m, :] \u001b[38;5;241m=\u001b[39m \u001b[38;5;241m0\u001b[39m\n\u001b[0;32m    259\u001b[0m \u001b[38;5;28;01mfor\u001b[39;00m i \u001b[38;5;129;01min\u001b[39;00m \u001b[38;5;28mrange\u001b[39m(\u001b[38;5;241m1\u001b[39m, ns):\n",
      "\u001b[1;31mValueError\u001b[0m: Maximum allowed dimension exceeded"
     ]
    }
   ],
   "source": [
    "# Moving towards origo\n",
    "for weight in [5.01, 5.05, 5.09]: #[0.341701, 0.341705, 0.341709]:\n",
    "    initial_tensor = get_standard_tensor(dim)\n",
    "    bqm, hubo = towards_user_defined_full(initial_tensor, dim, suggested_optimal, weight)\n",
    "    print(\"Number of linear variables: \", len(bqm.linear))\n",
    "    print(\"Number of quadratic variables: \", len(bqm.quadratic))\n",
    "    sample, energy, sampleset = solve_bqm_in_leap(bqm, \"Kerberos\")\n",
    "    tensors = construct_all_tensors(sample, dim)\n",
    "    for t in tensors:\n",
    "        initial_tensor = initial_tensor - np.tensordot(t[0], np.tensordot(t[1], t[2], axes=0), axes=0)\n",
    "    if np.count_nonzero(initial_tensor.flatten()) == 0:\n",
    "        print(\"Success!\")\n",
    "    else:\n",
    "        print(\"No success\")\n",
    "    print(tensors)"
   ]
  },
  {
   "cell_type": "code",
   "execution_count": null,
   "id": "7e7018f1-aed7-40b1-9d77-debc43c72b31",
   "metadata": {},
   "outputs": [],
   "source": [
    "initial_tensor"
   ]
  },
  {
   "cell_type": "code",
   "execution_count": null,
   "id": "22ab5bb6-c2b1-48f4-8493-235459a970a3",
   "metadata": {},
   "outputs": [],
   "source": [
    "tensors"
   ]
  },
  {
   "cell_type": "code",
   "execution_count": null,
   "id": "c97e9d18-12c3-4d02-8dd1-a2e3b37d2d69",
   "metadata": {},
   "outputs": [],
   "source": [
    "bqm.energy(get_test_strassen_test_tensor(bqm))"
   ]
  },
  {
   "cell_type": "code",
   "execution_count": null,
   "id": "e7b191a4-b641-4abc-9eea-07045fb9cb38",
   "metadata": {},
   "outputs": [],
   "source": [
    "#variables"
   ]
  },
  {
   "cell_type": "code",
   "execution_count": null,
   "id": "ef1a7cf1-6d23-4c4e-9d5d-56d557a3d29e",
   "metadata": {},
   "outputs": [],
   "source": [
    "bqm.energy(sample)"
   ]
  }
 ],
 "metadata": {
  "kernelspec": {
   "display_name": "Python 3 (ipykernel)",
   "language": "python",
   "name": "python3"
  },
  "language_info": {
   "codemirror_mode": {
    "name": "ipython",
    "version": 3
   },
   "file_extension": ".py",
   "mimetype": "text/x-python",
   "name": "python",
   "nbconvert_exporter": "python",
   "pygments_lexer": "ipython3",
   "version": "3.10.8"
  }
 },
 "nbformat": 4,
 "nbformat_minor": 5
}
