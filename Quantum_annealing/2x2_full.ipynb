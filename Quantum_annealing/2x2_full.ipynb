{
 "cells": [
  {
   "cell_type": "code",
   "execution_count": 1,
   "id": "bb795263-7dc1-4ea7-a6cd-2241f070b579",
   "metadata": {},
   "outputs": [],
   "source": [
    "import os\n",
    "import sys\n",
    "import dimod\n",
    "import matplotlib.pyplot as plt\n",
    "import numpy as np\n",
    "\n",
    "this_folder = os.path.dirname(os.path.abspath(os.getcwd()))\n",
    "sys.path.insert(0, this_folder)\n",
    "\n",
    "from utils import *\n",
    "from optimized_qubos import *\n",
    "\n",
    "dim = 2\n",
    "initial_tensor = get_standard_tensor(dim) #% 2\n",
    "suggested_optimal = 7 #Proved optimal for multiplying 2x2 matrices\n",
    "origo = np.tensordot([0]*4, np.tensordot([0]*4, [0]*4, axes=0), axes=0)"
   ]
  },
  {
   "cell_type": "code",
   "execution_count": 2,
   "id": "1a13ae80-00f0-489e-aeaf-84ce4291db2c",
   "metadata": {},
   "outputs": [],
   "source": [
    "strassen_tensors_np = [np.tensordot([0,0,0,1], np.tensordot([-1,0,1,0], [1,0,1,0], axes=0), axes=0),\n",
    "           np.tensordot([1,1,0,0], np.tensordot([0,0,0,1], [-1,1,0,0], axes=0), axes=0),\n",
    "           np.tensordot([-1,0,1,0], np.tensordot([1,1,0,0], [0,0,0,1], axes=0), axes=0),\n",
    "           np.tensordot([1,0,0,1], np.tensordot([1,0,0,1], [1,0,0,1], axes=0), axes=0),\n",
    "           np.tensordot([0,1,0,-1], np.tensordot([0,0,1,1], [1,0,0,0], axes=0), axes=0),\n",
    "           np.tensordot([1,0,0,0], np.tensordot([0,1,0,-1], [0,1,0,1], axes=0), axes=0),\n",
    "           np.tensordot([0,0,1,1], np.tensordot([1,0,0,0], [0,0,1,-1], axes=0), axes=0)]"
   ]
  },
  {
   "cell_type": "code",
   "execution_count": 3,
   "id": "897c2e5b-aead-4737-a7d7-0a8cc6cb233f",
   "metadata": {},
   "outputs": [],
   "source": [
    "def construct_all_tensors(sample, dim):\n",
    "    positive_linear_vars = []\n",
    "    tensors = []\n",
    "    for i in range(suggested_optimal):\n",
    "        x, y, z = [], [], []\n",
    "        for j in range(dim**2):\n",
    "            x.append(sample[str(i) + \"x\" + str(j)])\n",
    "            y.append(sample[str(i) + \"y\" + str(j)])\n",
    "            z.append(sample[str(i) + \"z\" + str(j)])\n",
    "        tensors.append([x,y,z])\n",
    "    return tensors"
   ]
  },
  {
   "cell_type": "code",
   "execution_count": 4,
   "id": "75cf8edb-821a-4a56-9fc7-eee8ba2fa620",
   "metadata": {},
   "outputs": [
    {
     "name": "stdout",
     "output_type": "stream",
     "text": [
      "Number of linear variables:  667\n",
      "Number of quadratic variables:  3093\n",
      "Energy:  1.0\n",
      "Fail!\n",
      "[[[0, 0, 1, 0], [1, 0, 0, 0], [0, 0, 1, 0]], [[0, 1, 0, 0], [0, 0, 0, 1], [0, 1, 0, 0]], [[0, 0, 0, 1], [0, 0, 0, 1], [0, 0, 0, 1]], [[0, 1, 0, 0], [0, 0, 1, 0], [1, 0, 0, 0]], [[0, 0, 0, 1], [0, 0, 1, 0], [0, 0, 1, 0]], [[0, 0, 1, 0], [0, 1, 0, 0], [0, 0, 0, 1]], [[1, 0, 0, 0], [0, 1, 0, 0], [1, 1, 0, 0]]]\n"
     ]
    }
   ],
   "source": [
    "# Moving towards origo\n",
    "bqm, poly = towards_user_defined_full(initial_tensor, dim, suggested_optimal)\n",
    "print(\"Number of linear variables: \", len(bqm.linear))\n",
    "print(\"Number of quadratic variables: \", len(bqm.quadratic))\n",
    "sample, energy, sampleset = solve_bqm_in_leap(bqm, \"Greedy\")\n",
    "tensors = construct_all_tensors(sample, dim)\n",
    "for t in tensors:\n",
    "    initial_tensor = initial_tensor - np.tensordot(t[0], np.tensordot(t[1], t[2], axes=0), axes=0)\n",
    "if np.count_nonzero(initial_tensor.flatten()) == 0:\n",
    "    print(\"Success!\")\n",
    "else:\n",
    "    print(\"Fail!\")\n",
    "    print(tensors)"
   ]
  },
  {
   "cell_type": "code",
   "execution_count": 5,
   "id": "7e7018f1-aed7-40b1-9d77-debc43c72b31",
   "metadata": {},
   "outputs": [
    {
     "data": {
      "text/plain": [
       "array([[[ 1.,  0.,  0.,  0.],\n",
       "        [-1.,  0.,  0.,  0.],\n",
       "        [ 0.,  0.,  0.,  0.],\n",
       "        [ 0.,  0.,  0.,  0.]],\n",
       "\n",
       "       [[ 0.,  0.,  0.,  0.],\n",
       "        [ 0.,  0.,  0.,  0.],\n",
       "        [ 0.,  0.,  0.,  0.],\n",
       "        [ 0.,  0.,  0.,  0.]],\n",
       "\n",
       "       [[ 0.,  0.,  0.,  0.],\n",
       "        [ 0.,  0.,  0.,  0.],\n",
       "        [ 0.,  0.,  0.,  0.],\n",
       "        [ 0.,  0.,  0.,  0.]],\n",
       "\n",
       "       [[ 0.,  0.,  0.,  0.],\n",
       "        [ 0.,  0.,  0.,  0.],\n",
       "        [ 0.,  0.,  0.,  0.],\n",
       "        [ 0.,  0.,  0.,  0.]]])"
      ]
     },
     "execution_count": 5,
     "metadata": {},
     "output_type": "execute_result"
    }
   ],
   "source": [
    "initial_tensor"
   ]
  },
  {
   "cell_type": "code",
   "execution_count": 30,
   "id": "c28b18b7-8225-489b-8d1c-ed6083a5bdf4",
   "metadata": {},
   "outputs": [],
   "source": [
    "#print_solution(sample)"
   ]
  },
  {
   "cell_type": "code",
   "execution_count": 31,
   "id": "22ab5bb6-c2b1-48f4-8493-235459a970a3",
   "metadata": {},
   "outputs": [
    {
     "data": {
      "text/plain": [
       "[[[0, 0, 1, 0], [1, 0, 0, 0], [0, 0, 1, 0]],\n",
       " [[0, 1, 0, 0], [0, 0, 0, 1], [0, 1, 0, 0]],\n",
       " [[0, 0, 0, 1], [0, 0, 0, 1], [0, 0, 0, 1]],\n",
       " [[0, 1, 0, 0], [0, 0, 1, 0], [1, 0, 0, 0]],\n",
       " [[0, 0, 0, 1], [0, 0, 1, 0], [0, 0, 1, 0]],\n",
       " [[0, 0, 1, 0], [0, 1, 0, 0], [0, 0, 0, 1]],\n",
       " [[1, 0, 0, 0], [0, 1, 0, 0], [1, 1, 0, 0]]]"
      ]
     },
     "execution_count": 31,
     "metadata": {},
     "output_type": "execute_result"
    }
   ],
   "source": [
    "tensors"
   ]
  },
  {
   "cell_type": "code",
   "execution_count": 28,
   "id": "e2a39197-29e4-4544-ae78-6a82474c36bb",
   "metadata": {},
   "outputs": [
    {
     "name": "stdout",
     "output_type": "stream",
     "text": [
      "48.0\n"
     ]
    }
   ],
   "source": [
    "strassen_tensors = [[[0,0,0,1], [-1,0,1,0], [1,0,1,0]],\n",
    "                    [[1,1,0,0], [0,0,0,1], [-1,1,0,0]],\n",
    "                    [[-1,0,1,0], [1,1,0,0], [0,0,0,1]],\n",
    "                    [[1,0,0,1], [1,0,0,1], [1,0,0,1]],\n",
    "                    [[0,1,0,-1], [0,0,1,1], [1,0,0,0]],\n",
    "                    [[1,0,0,0], [0,1,0,-1], [0,1,0,1]],\n",
    "                    [[0,0,1,1], [1,0,0,0], [0,0,1,-1]]]\n",
    "\n",
    "mapping = {\"x\":0, \"y\":1, \"z\":2}\n",
    "variables = dict()\n",
    "for v in bqm.variables:\n",
    "    if len(v) == 3:\n",
    "        variables[v] = np.mod(strassen_tensors[int(v[0])][mapping[v[1]]][int(v[2])], 2)\n",
    "    elif len(v) == 7:\n",
    "        variables[v] = np.mod(strassen_tensors[int(v[0])][mapping[v[1]]][int(v[2])]*strassen_tensors[int(v[4])][mapping[v[5]]][int(v[6])], 2)\n",
    "    elif len(v) == 11:\n",
    "        variables[v] = np.mod(strassen_tensors[int(v[0])][mapping[v[1]]][int(v[2])]*strassen_tensors[int(v[4])][mapping[v[5]]][int(v[6])]*strassen_tensors[int(v[8])][mapping[v[9]]][int(v[10])], 2)\n",
    "    elif len(v) == 15:\n",
    "        variables[v] = np.mod(strassen_tensors[int(v[0])][mapping[v[1]]][int(v[2])]*strassen_tensors[int(v[4])][mapping[v[5]]][int(v[6])]*strassen_tensors[int(v[8])][mapping[v[9]]][int(v[10])]*strassen_tensors[int(v[12])][mapping[v[13]]][int(v[14])], 2)\n",
    "\n",
    "#print(variables)\n",
    "print(bqm.energy(variables))"
   ]
  },
  {
   "cell_type": "code",
   "execution_count": 29,
   "id": "e7b191a4-b641-4abc-9eea-07045fb9cb38",
   "metadata": {},
   "outputs": [],
   "source": [
    "#variables"
   ]
  },
  {
   "cell_type": "code",
   "execution_count": 9,
   "id": "ef1a7cf1-6d23-4c4e-9d5d-56d557a3d29e",
   "metadata": {},
   "outputs": [
    {
     "data": {
      "text/plain": [
       "1.0"
      ]
     },
     "execution_count": 9,
     "metadata": {},
     "output_type": "execute_result"
    }
   ],
   "source": [
    "bqm.energy(sample)"
   ]
  },
  {
   "cell_type": "code",
   "execution_count": 10,
   "id": "0f85b7dc-e9b4-4326-9bcf-fad5cf779669",
   "metadata": {
    "tags": []
   },
   "outputs": [
    {
     "data": {
      "text/plain": [
       "40.0"
      ]
     },
     "execution_count": 10,
     "metadata": {},
     "output_type": "execute_result"
    }
   ],
   "source": [
    "poly.energy(variables)"
   ]
  },
  {
   "cell_type": "code",
   "execution_count": 11,
   "id": "92dfd37c-c169-4977-b343-8777065073fd",
   "metadata": {},
   "outputs": [
    {
     "name": "stdout",
     "output_type": "stream",
     "text": [
      "-2.0\n"
     ]
    }
   ],
   "source": [
    "strassen_tensors = [[[0, 0, 0, 0], [1, 1, 1, 1], [0, 1, 0, 1]], [[1, 0, 0, 0], [0, 1, 0, 0], [0, 1, 0, 0]], [[0, 1, 0, 1], [0, 0, 0, 1], [0, 1, 0, 1]], [[1, 0, 0, 0], [1, 0, 0, 0], [1, 0, 0, 0]], [[0, 0, 0, 0], [1, 1, 0, 1], [0, 1, 1, 1]], [[0, 0, 0, 0], [0, 1, 0, 0], [1, 1, 1, 1]], [[0, 0, 0, 0], [0, 0, 1, 1], [1, 1, 0, 1]]]\n",
    "\n",
    "mapping = {\"x\":0, \"y\":1, \"z\":2}\n",
    "variables = dict()\n",
    "for v in bqm.variables:\n",
    "    if len(v) == 3:\n",
    "        variables[v] = strassen_tensors[int(v[0])][mapping[v[1]]][int(v[2])] % 2\n",
    "    elif len(v) == 7:\n",
    "        variables[v] = ((strassen_tensors[int(v[0])][mapping[v[1]]][int(v[2])] % 2)*(strassen_tensors[int(v[4])][mapping[v[5]]][int(v[6])] % 2)) % 2\n",
    "    elif len(v) == 11:\n",
    "        variables[v] = ((strassen_tensors[int(v[0])][mapping[v[1]]][int(v[2])] % 2)*(strassen_tensors[int(v[4])][mapping[v[5]]][int(v[6])] % 2)*(strassen_tensors[int(v[8])][mapping[v[9]]][int(v[10])] % 2))%2\n",
    "    elif len(v) == 15:\n",
    "        variables[v] = (strassen_tensors[int(v[0])][mapping[v[1]]][int(v[2])] % 2)*(strassen_tensors[int(v[4])][mapping[v[5]]][int(v[6])] % 2)*(strassen_tensors[int(v[8])][mapping[v[9]]][int(v[10])] % 2)*(strassen_tensors[int(v[12])][mapping[v[13]]][int(v[14])] % 2)\n",
    "        \n",
    "print(poly.energy(variables))"
   ]
  },
  {
   "cell_type": "code",
   "execution_count": 12,
   "id": "1c0ef9b6-828a-424e-936f-0dc869644dcc",
   "metadata": {},
   "outputs": [],
   "source": [
    "qubo = square_negative_sum(dict(), [\"x\", \"y\"], 1)"
   ]
  },
  {
   "cell_type": "code",
   "execution_count": 13,
   "id": "dd0e8148-36aa-454f-986d-4a22e237fed6",
   "metadata": {},
   "outputs": [],
   "source": [
    "#sample, energy, sampleset = solve_bqm_in_leap(dimod.BinaryQuadraticModel(qubo), \"Greedy\")"
   ]
  }
 ],
 "metadata": {
  "kernelspec": {
   "display_name": "Python 3 (ipykernel)",
   "language": "python",
   "name": "python3"
  },
  "language_info": {
   "codemirror_mode": {
    "name": "ipython",
    "version": 3
   },
   "file_extension": ".py",
   "mimetype": "text/x-python",
   "name": "python",
   "nbconvert_exporter": "python",
   "pygments_lexer": "ipython3",
   "version": "3.10.8"
  }
 },
 "nbformat": 4,
 "nbformat_minor": 5
}
