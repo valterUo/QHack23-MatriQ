{
 "cells": [
  {
   "cell_type": "markdown",
   "id": "da323ae4-1b54-430b-a5da-25a71bf395aa",
   "metadata": {},
   "source": [
    "# Searching for faster matrix multiplication algorithms with quantum annealing"
   ]
  },
  {
   "cell_type": "code",
   "execution_count": 1,
   "id": "4855cca8-9973-4fef-bc39-69a9aec6dba7",
   "metadata": {},
   "outputs": [],
   "source": [
    "import os\n",
    "import sys\n",
    "import dimod\n",
    "import pennylane as qml\n",
    "from pennylane import qaoa\n",
    "from pennylane import numpy as np\n",
    "from matplotlib import pyplot as plt\n",
    "\n",
    "this_folder = os.path.dirname(os.path.abspath(os.getcwd()))\n",
    "sys.path.insert(0, this_folder) \n",
    "\n",
    "from utils import get_standard_tensor\n",
    "from ocean_pennylane_integration import *"
   ]
  },
  {
   "cell_type": "code",
   "execution_count": null,
   "id": "d5e7af05-ee4e-4fbb-a6c8-ad9466e21a92",
   "metadata": {},
   "outputs": [],
   "source": [
    "dim = 2\n",
    "initial_tensor = utils.get_standard_tensor(dim) % 2\n",
    "origo = np.tensordot([0]*4, np.tensordot([0]*4, [0]*4, axes=0), axes=0)"
   ]
  },
  {
   "cell_type": "code",
   "execution_count": null,
   "id": "5920a504-4f0a-4de8-800a-b28a32aca026",
   "metadata": {},
   "outputs": [],
   "source": [
    "strassen_tensors = [np.tensordot([0,0,0,1], np.tensordot([-1,0,1,0], [1,0,1,0], axes=0), axes=0),\n",
    "          np.tensordot([1,1,0,0], np.tensordot([0,0,0,1], [-1,1,0,0], axes=0), axes=0),\n",
    "           np.tensordot([-1,0,1,0], np.tensordot([1,1,0,0], [0,0,0,1], axes=0), axes=0),\n",
    "           np.tensordot([1,0,0,1], np.tensordot([1,0,0,1], [1,0,0,1], axes=0), axes=0),\n",
    "          np.tensordot([0,1,0,-1], np.tensordot([0,0,1,1], [1,0,0,0], axes=0), axes=0),\n",
    "           np.tensordot([1,0,0,0], np.tensordot([0,1,0,-1], [0,1,0,1], axes=0), axes=0),\n",
    "           np.tensordot([0,0,1,1], np.tensordot([1,0,0,0], [0,0,1,-1], axes=0), axes=0)]"
   ]
  },
  {
   "cell_type": "code",
   "execution_count": null,
   "id": "95a70217-ee61-49a8-b7b8-44090ab0e640",
   "metadata": {},
   "outputs": [],
   "source": [
    "tensor = (initial_tensor - strassen_tensors[0] - strassen_tensors[1] - strassen_tensors[2] - strassen_tensors[3]) % 2\n",
    "\n",
    "# Moving towards origo\n",
    "while(True):\n",
    "    bqm = towards_user_defined_small(tensor, origo, dim)\n",
    "    params, qaoa_circuit, wires = construct_qaoa_and_optimize(bqm, \"default.qubit\", \"SPSA\", 1)\n",
    "    print_probs(qaoa_circuit, wires, params)\n",
    "    #sample, energy, sampleset = solve_bqm_in_leap(bqm, \"Greedy\")\n",
    "    #print(sampleset)\n",
    "    #x1, y1, z1 = process_result(sample, 2)\n",
    "    print(x1, y1, z1)\n",
    "    tensor = (tensor - np.tensordot(x1, np.tensordot(y1, z1, axes=0), axes=0)) % 2\n",
    "    if np.count_nonzero(tensor.flatten()) == 0:\n",
    "        print(\"End\")\n",
    "        break\n",
    "        \n",
    "tensor = (initial_tensor + strassen_tensors[0] + strassen_tensors[1] + strassen_tensors[2]) % 2\n",
    "# Moving towards standard matrix multiplication i.e. the naive method\n",
    "while(True):\n",
    "    bqm = towards_user_defined_small(tensor, initial_tensor, dim)\n",
    "    #sample, energy, sampleset = solve_bqm_in_leap(bqm, \"Greedy\")\n",
    "    #print(sampleset)\n",
    "    #x1, y1, z1 = process_result(sample, 2)\n",
    "    #print(x1, y1, z1)\n",
    "    tensor = (tensor - np.tensordot(x1, np.tensordot(y1, z1, axes=0), axes=0)) % 2\n",
    "    if np.array_equal(tensor, initial_tensor):\n",
    "        print(\"End\")\n",
    "        break"
   ]
  }
 ],
 "metadata": {
  "kernelspec": {
   "display_name": "Python 3 (ipykernel)",
   "language": "python",
   "name": "python3"
  },
  "language_info": {
   "codemirror_mode": {
    "name": "ipython",
    "version": 3
   },
   "file_extension": ".py",
   "mimetype": "text/x-python",
   "name": "python",
   "nbconvert_exporter": "python",
   "pygments_lexer": "ipython3",
   "version": "3.10.8"
  }
 },
 "nbformat": 4,
 "nbformat_minor": 5
}
