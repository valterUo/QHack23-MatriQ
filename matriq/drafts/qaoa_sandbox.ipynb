{
 "cells": [
  {
   "cell_type": "markdown",
   "id": "f266bcec-83b0-4515-8600-c6ebf9d8a0cb",
   "metadata": {},
   "source": [
    "## Integrating Ocean QUBO implementation with Pennylane's QAOA implementation"
   ]
  },
  {
   "cell_type": "code",
   "execution_count": 1,
   "id": "56d9ede1-2934-4b89-877b-eb98804bef7f",
   "metadata": {},
   "outputs": [],
   "source": [
    "import dimod\n",
    "import pennylane as qml\n",
    "from pennylane import qaoa\n",
    "from pennylane import numpy as np\n",
    "from matplotlib import pyplot as plt"
   ]
  },
  {
   "cell_type": "code",
   "execution_count": 2,
   "id": "2ffda074-0f88-43ab-a145-7ac57390d4ca",
   "metadata": {},
   "outputs": [],
   "source": [
    "def get_qml_hamiltionian(bqm):\n",
    "    var_to_z_number = {}\n",
    "    for i, var in enumerate(bqm.linear):\n",
    "        var_to_z_number[var] = i\n",
    "        \n",
    "    coeffs = []\n",
    "    obs = []\n",
    "    \n",
    "    for var in bqm.iter_linear():\n",
    "        z_number = var_to_z_number[var[0]]\n",
    "        obs.append(qml.PauliZ(z_number))\n",
    "        coeffs.append(float(var[1]))\n",
    "    for var in bqm.iter_quadratic():\n",
    "        z_number1 = var_to_z_number[var[0]]\n",
    "        z_number2 = var_to_z_number[var[1]]\n",
    "        obs.append(qml.PauliZ(z_number1) @ qml.PauliZ(z_number2))\n",
    "        coeffs.append(float(var[2]))\n",
    "    \n",
    "    obs.append(qml.Identity(0))\n",
    "    coeffs.append(bqm.offset)\n",
    "    H = qml.Hamiltonian(coeffs, obs)\n",
    "    return (H, qaoa.x_mixer(var_to_z_number.values()))"
   ]
  },
  {
   "cell_type": "code",
   "execution_count": 3,
   "id": "0ba31dd8-091c-48ab-85cf-e4524f63beaf",
   "metadata": {},
   "outputs": [
    {
     "name": "stdout",
     "output_type": "stream",
     "text": [
      "  (1.0) [Z0]\n",
      "+ (1.0) [Z1]\n",
      "+ (1.0) [I0]\n",
      "+ (2.0) [Z1 Z0]\n",
      "  (1) [X0]\n",
      "+ (1) [X1]\n"
     ]
    }
   ],
   "source": [
    "vartype = dimod.BINARY\n",
    "linear = {'x': 1, 'y': 1}\n",
    "quadratic = {('x','y') : 2}\n",
    "offset = 1.0\n",
    "\n",
    "bqm = dimod.BinaryQuadraticModel(linear, quadratic, offset, vartype)\n",
    "\n",
    "cost, mix = get_qml_hamiltionian(bqm)\n",
    "print(cost)\n",
    "print(mix)"
   ]
  },
  {
   "cell_type": "code",
   "execution_count": 4,
   "id": "061de1eb-10f3-4f6e-ab7a-a80a7552341d",
   "metadata": {},
   "outputs": [],
   "source": [
    "def qaoa_layer(gamma, alpha):\n",
    "    qaoa.cost_layer(gamma, cost)\n",
    "    qaoa.mixer_layer(alpha, mix)"
   ]
  },
  {
   "cell_type": "code",
   "execution_count": 5,
   "id": "7e6ca1df-6a1b-41f4-831b-9e7a1904a0c4",
   "metadata": {},
   "outputs": [],
   "source": [
    "wires = range(len(bqm.linear))\n",
    "depth = 1\n",
    "dev = qml.device(\"default.qubit\", wires=wires)\n",
    "\n",
    "def qaoa_circuit(params):\n",
    "    qml.broadcast(qml.Hadamard, wires, 'single')\n",
    "    qml.layer(qaoa_layer, depth, params[0], params[1])\n",
    "    \n",
    "\n",
    "@qml.qnode(dev)\n",
    "def cost_function(params):\n",
    "    qaoa_circuit(params)\n",
    "    return qml.expval(cost)"
   ]
  },
  {
   "cell_type": "code",
   "execution_count": 6,
   "id": "384d24ef-67c3-4518-81d1-3de6f09ea5ea",
   "metadata": {},
   "outputs": [
    {
     "name": "stdout",
     "output_type": "stream",
     "text": [
      "Optimal parameters: [[0.78539816]\n",
      " [0.26187658]]\n"
     ]
    }
   ],
   "source": [
    "optimizer = qml.GradientDescentOptimizer()\n",
    "params = np.array([[0.5], [0.5]], requires_grad=True)\n",
    "\n",
    "for i in range(70):\n",
    "    params = optimizer.step(cost_function, params)\n",
    "\n",
    "print(\"Optimal parameters:\", params)"
   ]
  },
  {
   "cell_type": "code",
   "execution_count": 7,
   "id": "31e1f8a0-056e-4956-a217-3653ddcaa0bd",
   "metadata": {},
   "outputs": [
    {
     "data": {
      "image/png": "[encoded data removed]",
      "text/plain": [
       "<Figure size 432x288 with 1 Axes>"
      ]
     },
     "metadata": {
      "needs_background": "light"
     },
     "output_type": "display_data"
    }
   ],
   "source": [
    "@qml.qnode(dev)\n",
    "def probability_circuit(gamma, alpha):\n",
    "    qaoa_circuit([gamma, alpha])\n",
    "    return qml.probs(wires=wires)\n",
    "\n",
    "\n",
    "probs = probability_circuit(params[0], params[1])\n",
    "\n",
    "plt.bar(range(2 ** len(wires)), probs)\n",
    "plt.show()"
   ]
  },
  {
   "cell_type": "code",
   "execution_count": null,
   "id": "b3947efd-0a14-44b3-8595-c4ec46e41b1e",
   "metadata": {},
   "outputs": [],
   "source": []
  }
 ],
 "metadata": {
  "kernelspec": {
   "display_name": "Python 3 (ipykernel)",
   "language": "python",
   "name": "python3"
  },
  "language_info": {
   "codemirror_mode": {
    "name": "ipython",
    "version": 3
   },
   "file_extension": ".py",
   "mimetype": "text/x-python",
   "name": "python",
   "nbconvert_exporter": "python",
   "pygments_lexer": "ipython3",
   "version": "3.10.8"
  }
 },
 "nbformat": 4,
 "nbformat_minor": 5
}
