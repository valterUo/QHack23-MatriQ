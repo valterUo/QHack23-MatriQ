{
 "cells": [
  {
   "cell_type": "code",
   "execution_count": 1,
   "metadata": {},
   "outputs": [],
   "source": [
    "factorizations = [\"3,3,3\"]\n",
    "for key in factorizations:\n",
    "    dim_n = int(key.split(\",\")[0])\n",
    "    dim_m = int(key.split(\",\")[1])\n",
    "    dim_p = int(key.split(\",\")[2])"
   ]
  },
  {
   "cell_type": "code",
   "execution_count": 7,
   "metadata": {},
   "outputs": [
    {
     "name": "stdout",
     "output_type": "stream",
     "text": [
      "Key:  222\n",
      "Number of terms in hubo:  98112\n",
      "Number of variables in binary polynomial:  168\n",
      "Degree:  6\n",
      "Key:  223\n",
      "Number of terms in hubo:  549648\n",
      "Number of variables in binary polynomial:  352\n",
      "Degree:  6\n",
      "Key:  224\n",
      "Number of terms in hubo:  1587712\n",
      "Number of variables in binary polynomial:  560\n",
      "Degree:  6\n",
      "Key:  225\n",
      "Number of terms in hubo:  4111200\n",
      "Number of variables in binary polynomial:  864\n",
      "Degree:  6\n",
      "Key:  233\n",
      "Number of terms in hubo:  2308500\n",
      "Number of variables in binary polynomial:  630\n",
      "Degree:  6\n"
     ]
    }
   ],
   "source": [
    "import pickle\n",
    "import dimod\n",
    "\n",
    "keys = [\"222\", \"223\", \"224\", \"225\", \"233\"]\n",
    "for key in keys:\n",
    "    print(\"Key: \", key)\n",
    "    hubo = pickle.load(open(\"files//hubo_\" + key + \".pkl\", \"rb\"))\n",
    "    print(\"Number of terms in hubo: \", len(hubo[\"hubo\"]))\n",
    "    polynomial = dimod.BinaryPolynomial.from_hubo(hubo[\"hubo\"])\n",
    "    print(\"Number of variables in binary polynomial: \", len(polynomial.variables))\n",
    "    print(\"Degree: \", polynomial.degree)\n",
    "    "
   ]
  }
 ],
 "metadata": {
  "kernelspec": {
   "display_name": "Python 3",
   "language": "python",
   "name": "python3"
  },
  "language_info": {
   "codemirror_mode": {
    "name": "ipython",
    "version": 3
   },
   "file_extension": ".py",
   "mimetype": "text/x-python",
   "name": "python",
   "nbconvert_exporter": "python",
   "pygments_lexer": "ipython3",
   "version": "3.10.8"
  }
 },
 "nbformat": 4,
 "nbformat_minor": 2
}
