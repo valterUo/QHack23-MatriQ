{
 "cells": [
  {
   "cell_type": "code",
   "execution_count": 1,
   "metadata": {},
   "outputs": [
    {
     "name": "stdout",
     "output_type": "stream",
     "text": [
      "Number of non-zeros initially:  103\n"
     ]
    },
    {
     "name": "stderr",
     "output_type": "stream",
     "text": [
      "Warning:  Output names have been modified due to duplicate names or characters invalid in LP format.\n",
      "Default row names c1, c2 ... being created.\n",
      "Warning:  Output names have been modified due to duplicate names or characters invalid in LP format.\n",
      "Default row names c1, c2 ... being created.\n"
     ]
    },
    {
     "name": "stdout",
     "output_type": "stream",
     "text": [
      "Energy:  74.0\n",
      "[0. 0. 0. 0. 1. 1. 0. 1. 1.] [0. 1. 0. 0. 1. 1. 0. 1. 0.] [0. 0. 0. 1. 1. 0. 0. 0. 0.]\n",
      "Number of nonzeros:  81\n"
     ]
    },
    {
     "name": "stderr",
     "output_type": "stream",
     "text": [
      "Warning:  Output names have been modified due to duplicate names or characters invalid in LP format.\n",
      "Default row names c1, c2 ... being created.\n"
     ]
    },
    {
     "name": "stdout",
     "output_type": "stream",
     "text": [
      "Energy:  61.0\n",
      "[0. 1. 1. 0. 1. 0. 0. 0. 0.] [1. 0. 1. 1. 0. 0. 1. 0. 1.] [0. 1. 0. 0. 0. 0. 0. 0. 0.]\n",
      "Number of nonzeros:  66\n"
     ]
    },
    {
     "name": "stderr",
     "output_type": "stream",
     "text": [
      "Warning:  Output names have been modified due to duplicate names or characters invalid in LP format.\n",
      "Default row names c1, c2 ... being created.\n"
     ]
    },
    {
     "name": "stdout",
     "output_type": "stream",
     "text": [
      "Energy:  49.0\n",
      "[1. 0. 0. 0. 0. 0. 1. 0. 0.] [1. 0. 1. 1. 0. 0. 1. 0. 0.] [1. 0. 0. 0. 0. 0. 1. 0. 0.]\n",
      "Number of nonzeros:  50\n"
     ]
    },
    {
     "name": "stderr",
     "output_type": "stream",
     "text": [
      "Warning:  Output names have been modified due to duplicate names or characters invalid in LP format.\n",
      "Default row names c1, c2 ... being created.\n"
     ]
    },
    {
     "name": "stdout",
     "output_type": "stream",
     "text": [
      "Energy:  39.0\n",
      "[1. 1. 0. 1. 0. 0. 0. 0. 0.] [1. 0. 1. 0. 1. 0. 0. 1. 0.] [0. 0. 0. 1. 0. 0. 0. 0. 0.]\n",
      "Number of nonzeros:  38\n"
     ]
    },
    {
     "name": "stderr",
     "output_type": "stream",
     "text": [
      "Warning:  Output names have been modified due to duplicate names or characters invalid in LP format.\n",
      "Default row names c1, c2 ... being created.\n"
     ]
    },
    {
     "name": "stdout",
     "output_type": "stream",
     "text": [
      "Energy:  33.0\n",
      "[1. 0. 1. 0. 0. 0. 0. 0. 0.] [1. 0. 1. 0. 0. 0. 0. 0. 0.] [1. 0. 1. 0. 0. 0. 0. 0. 0.]\n",
      "Number of nonzeros:  34\n"
     ]
    },
    {
     "name": "stderr",
     "output_type": "stream",
     "text": [
      "Warning:  Output names have been modified due to duplicate names or characters invalid in LP format.\n",
      "Default row names c1, c2 ... being created.\n"
     ]
    },
    {
     "name": "stdout",
     "output_type": "stream",
     "text": [
      "Energy:  29.0\n",
      "[0. 0. 0. 1. 0. 1. 0. 0. 0.] [0. 0. 0. 0. 0. 0. 0. 1. 0.] [0. 1. 0. 0. 0. 1. 0. 0. 0.]\n",
      "Number of nonzeros:  30\n"
     ]
    },
    {
     "name": "stderr",
     "output_type": "stream",
     "text": [
      "Warning:  Output names have been modified due to duplicate names or characters invalid in LP format.\n",
      "Default row names c1, c2 ... being created.\n"
     ]
    },
    {
     "name": "stdout",
     "output_type": "stream",
     "text": [
      "Energy:  25.0\n",
      "[0. 0. 0. 1. 1. 0. 0. 0. 0.] [0. 1. 0. 0. 0. 0. 0. 1. 0.] [0. 0. 0. 0. 1. 0. 0. 0. 0.]\n",
      "Number of nonzeros:  28\n"
     ]
    },
    {
     "name": "stderr",
     "output_type": "stream",
     "text": [
      "Warning:  Output names have been modified due to duplicate names or characters invalid in LP format.\n",
      "Default row names c1, c2 ... being created.\n"
     ]
    },
    {
     "name": "stdout",
     "output_type": "stream",
     "text": [
      "Energy:  21.0\n",
      "[0. 1. 1. 0. 0. 0. 0. 0. 0.] [0. 0. 0. 1. 0. 0. 0. 0. 0.] [1. 0. 1. 0. 0. 0. 0. 0. 0.]\n",
      "Number of nonzeros:  26\n"
     ]
    },
    {
     "name": "stderr",
     "output_type": "stream",
     "text": [
      "Warning:  Output names have been modified due to duplicate names or characters invalid in LP format.\n",
      "Default row names c1, c2 ... being created.\n"
     ]
    },
    {
     "name": "stdout",
     "output_type": "stream",
     "text": [
      "Energy:  18.0\n",
      "[0. 0. 0. 0. 1. 0. 0. 0. 0.] [1. 1. 1. 0. 0. 0. 0. 0. 0.] [0. 0. 0. 1. 0. 0. 0. 0. 0.]\n",
      "Number of nonzeros:  23\n"
     ]
    },
    {
     "name": "stderr",
     "output_type": "stream",
     "text": [
      "Warning:  Output names have been modified due to duplicate names or characters invalid in LP format.\n",
      "Default row names c1, c2 ... being created.\n"
     ]
    },
    {
     "name": "stdout",
     "output_type": "stream",
     "text": [
      "Energy:  15.0\n",
      "[0. 0. 0. 0. 0. 0. 0. 1. 0.] [0. 1. 0. 0. 1. 0. 0. 1. 0.] [0. 0. 0. 0. 0. 0. 0. 0. 1.]\n",
      "Number of nonzeros:  20\n"
     ]
    },
    {
     "name": "stderr",
     "output_type": "stream",
     "text": [
      "Warning:  Output names have been modified due to duplicate names or characters invalid in LP format.\n",
      "Default row names c1, c2 ... being created.\n"
     ]
    },
    {
     "name": "stdout",
     "output_type": "stream",
     "text": [
      "Energy:  13.0\n",
      "[1. 0. 0. 0. 0. 0. 0. 0. 0.] [0. 0. 1. 0. 0. 0. 0. 0. 0.] [1. 0. 0. 0. 0. 0. 1. 0. 0.]\n",
      "Number of nonzeros:  20\n"
     ]
    },
    {
     "name": "stderr",
     "output_type": "stream",
     "text": [
      "Warning:  Output names have been modified due to duplicate names or characters invalid in LP format.\n",
      "Default row names c1, c2 ... being created.\n"
     ]
    },
    {
     "name": "stdout",
     "output_type": "stream",
     "text": [
      "Energy:  11.0\n",
      "[0. 0. 0. 0. 0. 0. 1. 0. 0.] [0. 0. 1. 0. 0. 0. 0. 0. 0.] [0. 0. 1. 0. 0. 0. 0. 0. 1.]\n",
      "Number of nonzeros:  20\n"
     ]
    },
    {
     "name": "stderr",
     "output_type": "stream",
     "text": [
      "Warning:  Output names have been modified due to duplicate names or characters invalid in LP format.\n",
      "Default row names c1, c2 ... being created.\n"
     ]
    },
    {
     "name": "stdout",
     "output_type": "stream",
     "text": [
      "Energy:  9.0\n",
      "[0. 0. 0. 0. 0. 1. 0. 0. 0.] [0. 0. 0. 0. 0. 0. 1. 0. 1.] [0. 1. 0. 0. 0. 0. 0. 0. 0.]\n",
      "Number of nonzeros:  20\n"
     ]
    },
    {
     "name": "stderr",
     "output_type": "stream",
     "text": [
      "Warning:  Output names have been modified due to duplicate names or characters invalid in LP format.\n",
      "Default row names c1, c2 ... being created.\n"
     ]
    },
    {
     "name": "stdout",
     "output_type": "stream",
     "text": [
      "Energy:  7.0\n",
      "[0. 0. 0. 1. 0. 0. 0. 0. 0.] [1. 0. 1. 0. 0. 0. 0. 0. 0.] [0. 1. 0. 0. 0. 0. 0. 0. 0.]\n",
      "Number of nonzeros:  20\n"
     ]
    },
    {
     "name": "stderr",
     "output_type": "stream",
     "text": [
      "Warning:  Output names have been modified due to duplicate names or characters invalid in LP format.\n",
      "Default row names c1, c2 ... being created.\n"
     ]
    },
    {
     "name": "stdout",
     "output_type": "stream",
     "text": [
      "Energy:  6.0\n",
      "[0. 0. 0. 0. 0. 0. 0. 0. 1.] [0. 0. 0. 0. 0. 0. 0. 1. 0.] [0. 0. 0. 0. 0. 1. 0. 0. 0.]\n",
      "Number of nonzeros:  21\n"
     ]
    },
    {
     "name": "stderr",
     "output_type": "stream",
     "text": [
      "Warning:  Output names have been modified due to duplicate names or characters invalid in LP format.\n",
      "Default row names c1, c2 ... being created.\n"
     ]
    },
    {
     "name": "stdout",
     "output_type": "stream",
     "text": [
      "Energy:  5.0\n",
      "[0. 0. 1. 0. 0. 0. 0. 0. 0.] [0. 0. 0. 0. 0. 0. 0. 1. 0.] [0. 0. 0. 1. 0. 0. 0. 0. 0.]\n",
      "Number of nonzeros:  22\n"
     ]
    },
    {
     "name": "stderr",
     "output_type": "stream",
     "text": [
      "Warning:  Output names have been modified due to duplicate names or characters invalid in LP format.\n",
      "Default row names c1, c2 ... being created.\n"
     ]
    },
    {
     "name": "stdout",
     "output_type": "stream",
     "text": [
      "Energy:  4.0\n",
      "[0. 0. 0. 0. 1. 0. 0. 0. 0.] [0. 0. 0. 1. 0. 0. 0. 0. 0.] [0. 1. 0. 0. 0. 0. 0. 0. 0.]\n",
      "Number of nonzeros:  23\n"
     ]
    },
    {
     "name": "stderr",
     "output_type": "stream",
     "text": [
      "Warning:  Output names have been modified due to duplicate names or characters invalid in LP format.\n",
      "Default row names c1, c2 ... being created.\n"
     ]
    },
    {
     "name": "stdout",
     "output_type": "stream",
     "text": [
      "Energy:  3.0\n",
      "[0. 1. 0. 0. 0. 0. 0. 0. 0.] [0. 0. 0. 0. 1. 0. 0. 0. 0.] [0. 0. 0. 1. 0. 0. 0. 0. 0.]\n",
      "Number of nonzeros:  24\n"
     ]
    },
    {
     "name": "stderr",
     "output_type": "stream",
     "text": [
      "Warning:  Output names have been modified due to duplicate names or characters invalid in LP format.\n",
      "Default row names c1, c2 ... being created.\n"
     ]
    },
    {
     "name": "stdout",
     "output_type": "stream",
     "text": [
      "Energy:  2.0\n",
      "[0. 0. 0. 0. 0. 0. 0. 1. 0.] [0. 0. 0. 0. 1. 0. 0. 0. 0.] [0. 0. 0. 0. 0. 1. 0. 0. 0.]\n",
      "Number of nonzeros:  25\n"
     ]
    },
    {
     "name": "stderr",
     "output_type": "stream",
     "text": [
      "Warning:  Output names have been modified due to duplicate names or characters invalid in LP format.\n",
      "Default row names c1, c2 ... being created.\n"
     ]
    },
    {
     "name": "stdout",
     "output_type": "stream",
     "text": [
      "Energy:  1.0\n",
      "[0. 0. 0. 0. 0. 0. 1. 0. 0.] [0. 1. 0. 0. 0. 0. 0. 0. 0.] [0. 0. 0. 0. 0. 1. 0. 0. 0.]\n",
      "Number of nonzeros:  26\n"
     ]
    },
    {
     "name": "stderr",
     "output_type": "stream",
     "text": [
      "Warning:  Output names have been modified due to duplicate names or characters invalid in LP format.\n"
     ]
    },
    {
     "name": "stdout",
     "output_type": "stream",
     "text": [
      "Energy:  0.0\n",
      "[1. 0. 0. 0. 0. 0. 0. 0. 0.] [0. 1. 0. 0. 0. 0. 0. 0. 0.] [0. 0. 0. 1. 0. 0. 0. 0. 0.]\n",
      "Number of nonzeros:  27\n",
      "END\n",
      "Number of non-zeros initially:  99\n"
     ]
    },
    {
     "name": "stderr",
     "output_type": "stream",
     "text": [
      "Default row names c1, c2 ... being created.\n"
     ]
    }
   ],
   "source": [
    "from algorithms.modular_search import ModularAlgorithm\n",
    "\n",
    "factorizations = [\"3,3,3\"]\n",
    "for key in factorizations:\n",
    "    dim_n = int(key.split(\",\")[0])\n",
    "    dim_m = int(key.split(\",\")[1])\n",
    "    dim_p = int(key.split(\",\")[2])\n",
    "    problem = ModularAlgorithm(key, dim_n, dim_m, dim_p, \"f2\")\n",
    "    problem.run_modular_algorithm()\n",
    "    "
   ]
  }
 ],
 "metadata": {
  "kernelspec": {
   "display_name": "Python 3",
   "language": "python",
   "name": "python3"
  },
  "language_info": {
   "codemirror_mode": {
    "name": "ipython",
    "version": 3
   },
   "file_extension": ".py",
   "mimetype": "text/x-python",
   "name": "python",
   "nbconvert_exporter": "python",
   "pygments_lexer": "ipython3",
   "version": "3.10.8"
  }
 },
 "nbformat": 4,
 "nbformat_minor": 2
}
